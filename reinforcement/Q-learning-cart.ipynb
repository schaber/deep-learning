{
 "cells": [
  {
   "cell_type": "markdown",
   "metadata": {
    "deletable": true,
    "editable": true
   },
   "source": [
    "# Deep Q-learning\n",
    "\n",
    "In this notebook, we'll build a neural network that can learn to play games through reinforcement learning. More specifically, we'll use Q-learning to train an agent to play a game called [Cart-Pole](https://gym.openai.com/envs/CartPole-v0). In this game, a freely swinging pole is attached to a cart. The cart can move to the left and right, and the goal is to keep the pole upright as long as possible.\n",
    "\n",
    "![Cart-Pole](assets/cart-pole.jpg)\n",
    "\n",
    "We can simulate this game using [OpenAI Gym](https://gym.openai.com/). First, let's check out how OpenAI Gym works. Then, we'll get into training an agent to play the Cart-Pole game."
   ]
  },
  {
   "cell_type": "code",
   "execution_count": 2,
   "metadata": {
    "collapsed": true,
    "deletable": true,
    "editable": true
   },
   "outputs": [],
   "source": [
    "import gym\n",
    "import tensorflow as tf\n",
    "import numpy as np"
   ]
  },
  {
   "cell_type": "markdown",
   "metadata": {},
   "source": [
    ">**Note:** Make sure you have OpenAI Gym cloned into the same directory with this notebook. I've included `gym` as a submodule, so you can run `git submodule --init --recursive` to pull the contents into the `gym` repo."
   ]
  },
  {
   "cell_type": "code",
   "execution_count": 3,
   "metadata": {
    "collapsed": false,
    "deletable": true,
    "editable": true
   },
   "outputs": [
    {
     "name": "stderr",
     "output_type": "stream",
     "text": [
      "[2017-04-23 14:04:24,917] Making new env: CartPole-v0\n"
     ]
    }
   ],
   "source": [
    "# Create the Cart-Pole game environment\n",
    "env = gym.make('CartPole-v0')"
   ]
  },
  {
   "cell_type": "markdown",
   "metadata": {
    "deletable": true,
    "editable": true
   },
   "source": [
    "We interact with the simulation through `env`. To show the simulation running, you can use `env.render()` to render one frame. Passing in an action as an integer to `env.step` will generate the next step in the simulation.  You can see how many actions are possible from `env.action_space` and to get a random action you can use `env.action_space.sample()`. This is general to all Gym games. In the Cart-Pole game, there are two possible actions, moving the cart left or right. So there are two actions we can take, encoded as 0 and 1.\n",
    "\n",
    "Run the code below to watch the simulation run."
   ]
  },
  {
   "cell_type": "code",
   "execution_count": 5,
   "metadata": {
    "collapsed": false,
    "deletable": true,
    "editable": true
   },
   "outputs": [],
   "source": [
    "env.reset()\n",
    "rewards = []\n",
    "for _ in range(100):\n",
    "    env.render()\n",
    "    state, reward, done, info = env.step(env.action_space.sample()) # take a random action\n",
    "    rewards.append(reward)\n",
    "    if done:\n",
    "        rewards = []\n",
    "        env.reset()"
   ]
  },
  {
   "cell_type": "markdown",
   "metadata": {
    "deletable": true,
    "editable": true
   },
   "source": [
    "To shut the window showing the simulation, use `env.close()`."
   ]
  },
  {
   "cell_type": "code",
   "execution_count": 6,
   "metadata": {
    "collapsed": true
   },
   "outputs": [],
   "source": [
    "env.close()"
   ]
  },
  {
   "cell_type": "markdown",
   "metadata": {
    "deletable": true,
    "editable": true
   },
   "source": [
    "If you ran the simulation above, we can look at the rewards:"
   ]
  },
  {
   "cell_type": "code",
   "execution_count": 7,
   "metadata": {
    "collapsed": false,
    "deletable": true,
    "editable": true
   },
   "outputs": [
    {
     "name": "stdout",
     "output_type": "stream",
     "text": [
      "[1.0, 1.0, 1.0, 1.0, 1.0, 1.0, 1.0, 1.0]\n"
     ]
    }
   ],
   "source": [
    "print(rewards[-20:])"
   ]
  },
  {
   "cell_type": "markdown",
   "metadata": {
    "deletable": true,
    "editable": true
   },
   "source": [
    "The game resets after the pole has fallen past a certain angle. For each frame while the simulation is running, it returns a reward of 1.0. The longer the game runs, the more reward we get. Then, our network's goal is to maximize the reward by keeping the pole vertical. It will do this by moving the cart to the left and the right."
   ]
  },
  {
   "cell_type": "markdown",
   "metadata": {
    "deletable": true,
    "editable": true
   },
   "source": [
    "## Q-Network\n",
    "\n",
    "We train our Q-learning agent using the Bellman Equation:\n",
    "\n",
    "$$\n",
    "Q(s, a) = r + \\gamma \\max{Q(s', a')}\n",
    "$$\n",
    "\n",
    "where $s$ is a state, $a$ is an action, and $s'$ is the next state from state $s$ and action $a$.\n",
    "\n",
    "Before we used this equation to learn values for a Q-_table_. However, for this game there are a huge number of states available. The state has four values: the position and velocity of the cart, and the position and velocity of the pole. These are all real-valued numbers, so ignoring floating point precisions, you practically have infinite states. Instead of using a table then, we'll replace it with a neural network that will approximate the Q-table lookup function.\n",
    "\n",
    "<img src=\"assets/deep-q-learning.png\" width=450px>\n",
    "\n",
    "Now, our Q value, $Q(s, a)$ is calculated by passing in a state to the network. The output will be Q-values for each available action, with fully connected hidden layers.\n",
    "\n",
    "<img src=\"assets/q-network.png\" width=550px>\n",
    "\n",
    "\n",
    "As I showed before, we can define our targets for training as $\\hat{Q}(s,a) = r + \\gamma \\max{Q(s', a')}$. Then we update the weights by minimizing $(\\hat{Q}(s,a) - Q(s,a))^2$. \n",
    "\n",
    "For this Cart-Pole game, we have four inputs, one for each value in the state, and two outputs, one for each action. To get $\\hat{Q}$, we'll first choose an action, then simulate the game using that action. This will get us the next state, $s'$, and the reward. With that, we can calculate $\\hat{Q}$ then pass it back into the $Q$ network to run the optimizer and update the weights.\n",
    "\n",
    "Below is my implementation of the Q-network. I used two fully connected layers with ReLU activations. Two seems to be good enough, three might be better. Feel free to try it out."
   ]
  },
  {
   "cell_type": "code",
   "execution_count": 8,
   "metadata": {
    "collapsed": false,
    "deletable": true,
    "editable": true
   },
   "outputs": [],
   "source": [
    "class QNetwork:\n",
    "    def __init__(self, learning_rate=0.01, state_size=4, \n",
    "                 action_size=2, hidden_size=10, \n",
    "                 name='QNetwork'):\n",
    "        # state inputs to the Q-network\n",
    "        with tf.variable_scope(name):\n",
    "            self.inputs_ = tf.placeholder(tf.float32, [None, state_size], name='inputs')\n",
    "            \n",
    "            # One hot encode the actions to later choose the Q-value for the action\n",
    "            self.actions_ = tf.placeholder(tf.int32, [None], name='actions')\n",
    "            one_hot_actions = tf.one_hot(self.actions_, action_size)\n",
    "            \n",
    "            # Target Q values for training\n",
    "            self.targetQs_ = tf.placeholder(tf.float32, [None], name='target')\n",
    "            \n",
    "            # ReLU hidden layers\n",
    "            self.fc1 = tf.contrib.layers.fully_connected(self.inputs_, hidden_size)\n",
    "            self.fc2 = tf.contrib.layers.fully_connected(self.fc1, hidden_size)\n",
    "\n",
    "            # Linear output layer\n",
    "            self.output = tf.contrib.layers.fully_connected(self.fc2, action_size, \n",
    "                                                            activation_fn=None)\n",
    "            \n",
    "            ### Train with loss (targetQ - Q)^2\n",
    "            # output has length 2, for two actions. This next line chooses\n",
    "            # one value from output (per row) according to the one-hot encoded actions.\n",
    "            self.Q = tf.reduce_sum(tf.multiply(self.output, one_hot_actions), axis=1)\n",
    "            \n",
    "            self.loss = tf.reduce_mean(tf.square(self.targetQs_ - self.Q))\n",
    "            self.opt = tf.train.AdamOptimizer(learning_rate).minimize(self.loss)"
   ]
  },
  {
   "cell_type": "markdown",
   "metadata": {
    "deletable": true,
    "editable": true
   },
   "source": [
    "## Experience replay\n",
    "\n",
    "Reinforcement learning algorithms can have stability issues due to correlations between states. To reduce correlations when training, we can store the agent's experiences and later draw a random mini-batch of those experiences to train on. \n",
    "\n",
    "Here, we'll create a `Memory` object that will store our experiences, our transitions $<s, a, r, s'>$. This memory will have a maxmium capacity, so we can keep newer experiences in memory while getting rid of older experiences. Then, we'll sample a random mini-batch of transitions $<s, a, r, s'>$ and train on those.\n",
    "\n",
    "Below, I've implemented a `Memory` object. If you're unfamiliar with `deque`, this is a double-ended queue. You can think of it like a tube open on both sides. You can put objects in either side of the tube. But if it's full, adding anything more will push an object out the other side. This is a great data structure to use for the memory buffer."
   ]
  },
  {
   "cell_type": "code",
   "execution_count": 9,
   "metadata": {
    "collapsed": true,
    "deletable": true,
    "editable": true
   },
   "outputs": [],
   "source": [
    "from collections import deque\n",
    "class Memory():\n",
    "    def __init__(self, max_size = 1000):\n",
    "        self.buffer = deque(maxlen=max_size)\n",
    "    \n",
    "    def add(self, experience):\n",
    "        self.buffer.append(experience)\n",
    "            \n",
    "    def sample(self, batch_size):\n",
    "        idx = np.random.choice(np.arange(len(self.buffer)), \n",
    "                               size=batch_size, \n",
    "                               replace=False)\n",
    "        return [self.buffer[ii] for ii in idx]"
   ]
  },
  {
   "cell_type": "markdown",
   "metadata": {},
   "source": [
    "## Exploration - Exploitation\n",
    "\n",
    "To learn about the environment and rules of the game, the agent needs to explore by taking random actions. We'll do this by choosing a random action with some probability $\\epsilon$ (epsilon).  That is, with some probability $\\epsilon$ the agent will make a random action and with probability $1 - \\epsilon$, the agent will choose an action from $Q(s,a)$. This is called an **$\\epsilon$-greedy policy**.\n",
    "\n",
    "\n",
    "At first, the agent needs to do a lot of exploring. Later when it has learned more, the agent can favor choosing actions based on what it has learned. This is called _exploitation_. We'll set it up so the agent is more likely to explore early in training, then more likely to exploit later in training."
   ]
  },
  {
   "cell_type": "markdown",
   "metadata": {},
   "source": [
    "## Q-Learning training algorithm\n",
    "\n",
    "Putting all this together, we can list out the algorithm we'll use to train the network. We'll train the network in _episodes_. One *episode* is one simulation of the game. For this game, the goal is to keep the pole upright for 195 frames. So we can start a new episode once meeting that goal. The game ends if the pole tilts over too far, or if the cart moves too far the left or right. When a game ends, we'll start a new episode. Now, to train the agent:\n",
    "\n",
    "* Initialize the memory $D$\n",
    "* Initialize the action-value network $Q$ with random weights\n",
    "* **For** episode = 1, $M$ **do**\n",
    "  * **For** $t$, $T$ **do**\n",
    "     * With probability $\\epsilon$ select a random action $a_t$, otherwise select $a_t = \\mathrm{argmax}_a Q(s,a)$\n",
    "     * Execute action $a_t$ in simulator and observe reward $r_{t+1}$ and new state $s_{t+1}$\n",
    "     * Store transition $<s_t, a_t, r_{t+1}, s_{t+1}>$ in memory $D$\n",
    "     * Sample random mini-batch from $D$: $<s_j, a_j, r_j, s'_j>$\n",
    "     * Set $\\hat{Q}_j = r_j$ if the episode ends at $j+1$, otherwise set $\\hat{Q}_j = r_j + \\gamma \\max_{a'}{Q(s'_j, a')}$\n",
    "     * Make a gradient descent step with loss $(\\hat{Q}_j - Q(s_j, a_j))^2$\n",
    "  * **endfor**\n",
    "* **endfor**"
   ]
  },
  {
   "cell_type": "markdown",
   "metadata": {},
   "source": [
    "## Hyperparameters\n",
    "\n",
    "One of the more difficult aspects of reinforcememt learning are the large number of hyperparameters. Not only are we tuning the network, but we're tuning the simulation."
   ]
  },
  {
   "cell_type": "code",
   "execution_count": 10,
   "metadata": {
    "collapsed": false,
    "deletable": true,
    "editable": true
   },
   "outputs": [],
   "source": [
    "train_episodes = 1000          # max number of episodes to learn from\n",
    "max_steps = 200                # max steps in an episode\n",
    "gamma = 0.99                   # future reward discount\n",
    "\n",
    "# Exploration parameters\n",
    "explore_start = 1.0            # exploration probability at start\n",
    "explore_stop = 0.01            # minimum exploration probability \n",
    "decay_rate = 0.0001            # exponential decay rate for exploration prob\n",
    "\n",
    "# Network parameters\n",
    "hidden_size = 64               # number of units in each Q-network hidden layer\n",
    "learning_rate = 0.0001         # Q-network learning rate\n",
    "\n",
    "# Memory parameters\n",
    "memory_size = 10000            # memory capacity\n",
    "batch_size = 20                # experience mini-batch size\n",
    "pretrain_length = batch_size   # number experiences to pretrain the memory"
   ]
  },
  {
   "cell_type": "code",
   "execution_count": 11,
   "metadata": {
    "collapsed": true,
    "deletable": true,
    "editable": true
   },
   "outputs": [],
   "source": [
    "tf.reset_default_graph()\n",
    "mainQN = QNetwork(name='main', hidden_size=hidden_size, learning_rate=learning_rate)"
   ]
  },
  {
   "cell_type": "markdown",
   "metadata": {
    "deletable": true,
    "editable": true
   },
   "source": [
    "## Populate the experience memory\n",
    "\n",
    "Here I'm re-initializing the simulation and pre-populating the memory. The agent is taking random actions and storing the transitions in memory. This will help the agent with exploring the game."
   ]
  },
  {
   "cell_type": "code",
   "execution_count": 12,
   "metadata": {
    "collapsed": false,
    "deletable": true,
    "editable": true
   },
   "outputs": [],
   "source": [
    "# Initialize the simulation\n",
    "env.reset()\n",
    "# Take one random step to get the pole and cart moving\n",
    "state, reward, done, _ = env.step(env.action_space.sample())\n",
    "\n",
    "memory = Memory(max_size=memory_size)\n",
    "\n",
    "# Make a bunch of random actions and store the experiences\n",
    "for ii in range(pretrain_length):\n",
    "    # Uncomment the line below to watch the simulation\n",
    "    # env.render()\n",
    "\n",
    "    # Make a random action\n",
    "    action = env.action_space.sample()\n",
    "    next_state, reward, done, _ = env.step(action)\n",
    "\n",
    "    if done:\n",
    "        # The simulation fails so no next state\n",
    "        next_state = np.zeros(state.shape)\n",
    "        # Add experience to memory\n",
    "        memory.add((state, action, reward, next_state))\n",
    "        \n",
    "        # Start new episode\n",
    "        env.reset()\n",
    "        # Take one random step to get the pole and cart moving\n",
    "        state, reward, done, _ = env.step(env.action_space.sample())\n",
    "    else:\n",
    "        # Add experience to memory\n",
    "        memory.add((state, action, reward, next_state))\n",
    "        state = next_state"
   ]
  },
  {
   "cell_type": "markdown",
   "metadata": {
    "deletable": true,
    "editable": true
   },
   "source": [
    "## Training\n",
    "\n",
    "Below we'll train our agent. If you want to watch it train, uncomment the `env.render()` line. This is slow because it's rendering the frames slower than the network can train. But, it's cool to watch the agent get better at the game."
   ]
  },
  {
   "cell_type": "code",
   "execution_count": 13,
   "metadata": {
    "collapsed": false,
    "deletable": true,
    "editable": true
   },
   "outputs": [
    {
     "name": "stdout",
     "output_type": "stream",
     "text": [
      "Episode: 1 Total reward: 10.0 Training loss: 1.1138 Explore P: 0.9990\n",
      "Episode: 2 Total reward: 20.0 Training loss: 1.0844 Explore P: 0.9970\n",
      "Episode: 3 Total reward: 22.0 Training loss: 1.0432 Explore P: 0.9949\n",
      "Episode: 4 Total reward: 17.0 Training loss: 1.0410 Explore P: 0.9932\n",
      "Episode: 5 Total reward: 11.0 Training loss: 1.0309 Explore P: 0.9921\n",
      "Episode: 6 Total reward: 15.0 Training loss: 1.0130 Explore P: 0.9906\n",
      "Episode: 7 Total reward: 18.0 Training loss: 1.0225 Explore P: 0.9889\n",
      "Episode: 8 Total reward: 11.0 Training loss: 1.0036 Explore P: 0.9878\n",
      "Episode: 9 Total reward: 20.0 Training loss: 1.0543 Explore P: 0.9858\n",
      "Episode: 10 Total reward: 13.0 Training loss: 1.0159 Explore P: 0.9846\n",
      "Episode: 11 Total reward: 19.0 Training loss: 1.0816 Explore P: 0.9827\n",
      "Episode: 12 Total reward: 12.0 Training loss: 1.0307 Explore P: 0.9816\n",
      "Episode: 13 Total reward: 17.0 Training loss: 1.2283 Explore P: 0.9799\n",
      "Episode: 14 Total reward: 16.0 Training loss: 1.0800 Explore P: 0.9784\n",
      "Episode: 15 Total reward: 41.0 Training loss: 1.0958 Explore P: 0.9744\n",
      "Episode: 16 Total reward: 19.0 Training loss: 1.1516 Explore P: 0.9726\n",
      "Episode: 17 Total reward: 29.0 Training loss: 1.4413 Explore P: 0.9698\n",
      "Episode: 18 Total reward: 18.0 Training loss: 1.3449 Explore P: 0.9681\n",
      "Episode: 19 Total reward: 16.0 Training loss: 1.2110 Explore P: 0.9665\n",
      "Episode: 20 Total reward: 16.0 Training loss: 1.1952 Explore P: 0.9650\n",
      "Episode: 21 Total reward: 30.0 Training loss: 1.3006 Explore P: 0.9621\n",
      "Episode: 22 Total reward: 24.0 Training loss: 1.3632 Explore P: 0.9599\n",
      "Episode: 23 Total reward: 9.0 Training loss: 1.6078 Explore P: 0.9590\n",
      "Episode: 24 Total reward: 12.0 Training loss: 1.4039 Explore P: 0.9579\n",
      "Episode: 25 Total reward: 9.0 Training loss: 1.6744 Explore P: 0.9570\n",
      "Episode: 26 Total reward: 25.0 Training loss: 1.7479 Explore P: 0.9546\n",
      "Episode: 27 Total reward: 69.0 Training loss: 2.4564 Explore P: 0.9481\n",
      "Episode: 28 Total reward: 14.0 Training loss: 2.5275 Explore P: 0.9468\n",
      "Episode: 29 Total reward: 15.0 Training loss: 1.7480 Explore P: 0.9454\n",
      "Episode: 30 Total reward: 23.0 Training loss: 2.1060 Explore P: 0.9433\n",
      "Episode: 31 Total reward: 29.0 Training loss: 5.2651 Explore P: 0.9406\n",
      "Episode: 32 Total reward: 26.0 Training loss: 4.3806 Explore P: 0.9382\n",
      "Episode: 33 Total reward: 12.0 Training loss: 5.2941 Explore P: 0.9370\n",
      "Episode: 34 Total reward: 12.0 Training loss: 5.1394 Explore P: 0.9359\n",
      "Episode: 35 Total reward: 13.0 Training loss: 3.1015 Explore P: 0.9347\n",
      "Episode: 36 Total reward: 21.0 Training loss: 2.8701 Explore P: 0.9328\n",
      "Episode: 37 Total reward: 8.0 Training loss: 8.5582 Explore P: 0.9321\n",
      "Episode: 38 Total reward: 10.0 Training loss: 14.0350 Explore P: 0.9311\n",
      "Episode: 39 Total reward: 10.0 Training loss: 4.5039 Explore P: 0.9302\n",
      "Episode: 40 Total reward: 35.0 Training loss: 5.0974 Explore P: 0.9270\n",
      "Episode: 41 Total reward: 44.0 Training loss: 7.2654 Explore P: 0.9230\n",
      "Episode: 42 Total reward: 35.0 Training loss: 2.5027 Explore P: 0.9198\n",
      "Episode: 43 Total reward: 13.0 Training loss: 3.5085 Explore P: 0.9186\n",
      "Episode: 44 Total reward: 14.0 Training loss: 7.0636 Explore P: 0.9173\n",
      "Episode: 45 Total reward: 8.0 Training loss: 3.9675 Explore P: 0.9166\n",
      "Episode: 46 Total reward: 18.0 Training loss: 8.7194 Explore P: 0.9150\n",
      "Episode: 47 Total reward: 24.0 Training loss: 5.4331 Explore P: 0.9128\n",
      "Episode: 48 Total reward: 17.0 Training loss: 4.2352 Explore P: 0.9113\n",
      "Episode: 49 Total reward: 15.0 Training loss: 15.9716 Explore P: 0.9099\n",
      "Episode: 50 Total reward: 16.0 Training loss: 10.5627 Explore P: 0.9085\n",
      "Episode: 51 Total reward: 15.0 Training loss: 4.8125 Explore P: 0.9071\n",
      "Episode: 52 Total reward: 15.0 Training loss: 26.7033 Explore P: 0.9058\n",
      "Episode: 53 Total reward: 16.0 Training loss: 4.4748 Explore P: 0.9044\n",
      "Episode: 54 Total reward: 29.0 Training loss: 32.2904 Explore P: 0.9018\n",
      "Episode: 55 Total reward: 20.0 Training loss: 24.2052 Explore P: 0.9000\n",
      "Episode: 56 Total reward: 39.0 Training loss: 4.5371 Explore P: 0.8965\n",
      "Episode: 57 Total reward: 13.0 Training loss: 21.3167 Explore P: 0.8954\n",
      "Episode: 58 Total reward: 16.0 Training loss: 38.3839 Explore P: 0.8940\n",
      "Episode: 59 Total reward: 42.0 Training loss: 34.6984 Explore P: 0.8902\n",
      "Episode: 60 Total reward: 11.0 Training loss: 26.4795 Explore P: 0.8893\n",
      "Episode: 61 Total reward: 14.0 Training loss: 6.0844 Explore P: 0.8881\n",
      "Episode: 62 Total reward: 27.0 Training loss: 33.0245 Explore P: 0.8857\n",
      "Episode: 63 Total reward: 31.0 Training loss: 6.5495 Explore P: 0.8830\n",
      "Episode: 64 Total reward: 23.0 Training loss: 6.7369 Explore P: 0.8810\n",
      "Episode: 65 Total reward: 61.0 Training loss: 19.1061 Explore P: 0.8757\n",
      "Episode: 66 Total reward: 19.0 Training loss: 41.2119 Explore P: 0.8740\n",
      "Episode: 67 Total reward: 37.0 Training loss: 7.0052 Explore P: 0.8708\n",
      "Episode: 68 Total reward: 22.0 Training loss: 22.5728 Explore P: 0.8689\n",
      "Episode: 69 Total reward: 25.0 Training loss: 6.0386 Explore P: 0.8668\n",
      "Episode: 70 Total reward: 11.0 Training loss: 7.1943 Explore P: 0.8659\n",
      "Episode: 71 Total reward: 13.0 Training loss: 49.8463 Explore P: 0.8647\n",
      "Episode: 72 Total reward: 17.0 Training loss: 11.2680 Explore P: 0.8633\n",
      "Episode: 73 Total reward: 13.0 Training loss: 12.2205 Explore P: 0.8622\n",
      "Episode: 74 Total reward: 13.0 Training loss: 62.4635 Explore P: 0.8611\n",
      "Episode: 75 Total reward: 18.0 Training loss: 58.6426 Explore P: 0.8595\n",
      "Episode: 76 Total reward: 55.0 Training loss: 162.2181 Explore P: 0.8549\n",
      "Episode: 77 Total reward: 26.0 Training loss: 22.3611 Explore P: 0.8527\n",
      "Episode: 78 Total reward: 30.0 Training loss: 174.9544 Explore P: 0.8502\n",
      "Episode: 79 Total reward: 13.0 Training loss: 35.9630 Explore P: 0.8491\n",
      "Episode: 80 Total reward: 15.0 Training loss: 77.8019 Explore P: 0.8478\n",
      "Episode: 81 Total reward: 17.0 Training loss: 10.2154 Explore P: 0.8464\n",
      "Episode: 82 Total reward: 13.0 Training loss: 10.7089 Explore P: 0.8453\n",
      "Episode: 83 Total reward: 21.0 Training loss: 27.6925 Explore P: 0.8436\n",
      "Episode: 84 Total reward: 11.0 Training loss: 31.9685 Explore P: 0.8426\n",
      "Episode: 85 Total reward: 36.0 Training loss: 31.8756 Explore P: 0.8397\n",
      "Episode: 86 Total reward: 23.0 Training loss: 10.2099 Explore P: 0.8377\n",
      "Episode: 87 Total reward: 11.0 Training loss: 10.1424 Explore P: 0.8368\n",
      "Episode: 88 Total reward: 8.0 Training loss: 50.6525 Explore P: 0.8362\n",
      "Episode: 89 Total reward: 20.0 Training loss: 38.4535 Explore P: 0.8345\n",
      "Episode: 90 Total reward: 21.0 Training loss: 80.5337 Explore P: 0.8328\n",
      "Episode: 91 Total reward: 16.0 Training loss: 11.4280 Explore P: 0.8315\n",
      "Episode: 92 Total reward: 19.0 Training loss: 10.9650 Explore P: 0.8299\n",
      "Episode: 93 Total reward: 8.0 Training loss: 10.5014 Explore P: 0.8293\n",
      "Episode: 94 Total reward: 14.0 Training loss: 10.4991 Explore P: 0.8281\n",
      "Episode: 95 Total reward: 17.0 Training loss: 109.0947 Explore P: 0.8267\n",
      "Episode: 96 Total reward: 16.0 Training loss: 8.4347 Explore P: 0.8254\n",
      "Episode: 97 Total reward: 13.0 Training loss: 158.9686 Explore P: 0.8244\n",
      "Episode: 98 Total reward: 17.0 Training loss: 185.9630 Explore P: 0.8230\n",
      "Episode: 99 Total reward: 23.0 Training loss: 170.8809 Explore P: 0.8211\n",
      "Episode: 100 Total reward: 11.0 Training loss: 9.0519 Explore P: 0.8202\n",
      "Episode: 101 Total reward: 15.0 Training loss: 9.3241 Explore P: 0.8190\n",
      "Episode: 102 Total reward: 26.0 Training loss: 85.0552 Explore P: 0.8169\n",
      "Episode: 103 Total reward: 19.0 Training loss: 56.6753 Explore P: 0.8154\n",
      "Episode: 104 Total reward: 12.0 Training loss: 7.4988 Explore P: 0.8144\n",
      "Episode: 105 Total reward: 13.0 Training loss: 123.9829 Explore P: 0.8134\n",
      "Episode: 106 Total reward: 29.0 Training loss: 6.8333 Explore P: 0.8110\n",
      "Episode: 107 Total reward: 16.0 Training loss: 7.9131 Explore P: 0.8098\n",
      "Episode: 108 Total reward: 13.0 Training loss: 52.2191 Explore P: 0.8087\n",
      "Episode: 109 Total reward: 16.0 Training loss: 98.7033 Explore P: 0.8074\n",
      "Episode: 110 Total reward: 12.0 Training loss: 91.5537 Explore P: 0.8065\n",
      "Episode: 111 Total reward: 16.0 Training loss: 61.0798 Explore P: 0.8052\n",
      "Episode: 112 Total reward: 38.0 Training loss: 8.6397 Explore P: 0.8022\n",
      "Episode: 113 Total reward: 15.0 Training loss: 115.6514 Explore P: 0.8010\n",
      "Episode: 114 Total reward: 17.0 Training loss: 135.2143 Explore P: 0.7997\n",
      "Episode: 115 Total reward: 50.0 Training loss: 134.6843 Explore P: 0.7957\n",
      "Episode: 116 Total reward: 16.0 Training loss: 291.6337 Explore P: 0.7945\n",
      "Episode: 117 Total reward: 14.0 Training loss: 216.6385 Explore P: 0.7934\n",
      "Episode: 118 Total reward: 20.0 Training loss: 53.6075 Explore P: 0.7918\n",
      "Episode: 119 Total reward: 44.0 Training loss: 192.7318 Explore P: 0.7884\n",
      "Episode: 120 Total reward: 10.0 Training loss: 5.4984 Explore P: 0.7876\n",
      "Episode: 121 Total reward: 28.0 Training loss: 82.1504 Explore P: 0.7854\n",
      "Episode: 122 Total reward: 28.0 Training loss: 6.5659 Explore P: 0.7833\n",
      "Episode: 123 Total reward: 20.0 Training loss: 55.7371 Explore P: 0.7817\n",
      "Episode: 124 Total reward: 24.0 Training loss: 5.8849 Explore P: 0.7799\n",
      "Episode: 125 Total reward: 12.0 Training loss: 326.1581 Explore P: 0.7789\n",
      "Episode: 126 Total reward: 21.0 Training loss: 140.6793 Explore P: 0.7773\n",
      "Episode: 127 Total reward: 20.0 Training loss: 84.9297 Explore P: 0.7758\n",
      "Episode: 128 Total reward: 14.0 Training loss: 4.1658 Explore P: 0.7747\n",
      "Episode: 129 Total reward: 10.0 Training loss: 72.7818 Explore P: 0.7740\n",
      "Episode: 130 Total reward: 27.0 Training loss: 5.7395 Explore P: 0.7719\n",
      "Episode: 131 Total reward: 25.0 Training loss: 137.2253 Explore P: 0.7700\n",
      "Episode: 132 Total reward: 17.0 Training loss: 3.6174 Explore P: 0.7687\n",
      "Episode: 133 Total reward: 15.0 Training loss: 186.1867 Explore P: 0.7676\n",
      "Episode: 134 Total reward: 9.0 Training loss: 81.0939 Explore P: 0.7669\n",
      "Episode: 135 Total reward: 11.0 Training loss: 111.9886 Explore P: 0.7660\n",
      "Episode: 136 Total reward: 14.0 Training loss: 5.7172 Explore P: 0.7650\n",
      "Episode: 137 Total reward: 44.0 Training loss: 5.0360 Explore P: 0.7617\n",
      "Episode: 138 Total reward: 23.0 Training loss: 211.3447 Explore P: 0.7599\n",
      "Episode: 139 Total reward: 26.0 Training loss: 63.2106 Explore P: 0.7580\n",
      "Episode: 140 Total reward: 19.0 Training loss: 2.9850 Explore P: 0.7566\n",
      "Episode: 141 Total reward: 10.0 Training loss: 63.7036 Explore P: 0.7558\n",
      "Episode: 142 Total reward: 19.0 Training loss: 70.5174 Explore P: 0.7544\n",
      "Episode: 143 Total reward: 28.0 Training loss: 58.9030 Explore P: 0.7523\n",
      "Episode: 144 Total reward: 10.0 Training loss: 3.1303 Explore P: 0.7516\n",
      "Episode: 145 Total reward: 18.0 Training loss: 2.0800 Explore P: 0.7503\n",
      "Episode: 146 Total reward: 49.0 Training loss: 126.9798 Explore P: 0.7466\n",
      "Episode: 147 Total reward: 20.0 Training loss: 124.9205 Explore P: 0.7452\n",
      "Episode: 148 Total reward: 18.0 Training loss: 56.0198 Explore P: 0.7439\n",
      "Episode: 149 Total reward: 9.0 Training loss: 59.4190 Explore P: 0.7432\n",
      "Episode: 150 Total reward: 13.0 Training loss: 45.0749 Explore P: 0.7422\n",
      "Episode: 151 Total reward: 17.0 Training loss: 47.6201 Explore P: 0.7410\n",
      "Episode: 152 Total reward: 11.0 Training loss: 61.0626 Explore P: 0.7402\n",
      "Episode: 153 Total reward: 12.0 Training loss: 63.1550 Explore P: 0.7393\n",
      "Episode: 154 Total reward: 16.0 Training loss: 101.2880 Explore P: 0.7381\n",
      "Episode: 155 Total reward: 10.0 Training loss: 1.0400 Explore P: 0.7374\n",
      "Episode: 156 Total reward: 24.0 Training loss: 180.4565 Explore P: 0.7357\n",
      "Episode: 157 Total reward: 18.0 Training loss: 1.4103 Explore P: 0.7344\n",
      "Episode: 158 Total reward: 15.0 Training loss: 1.6099 Explore P: 0.7333\n",
      "Episode: 159 Total reward: 10.0 Training loss: 0.9232 Explore P: 0.7326\n",
      "Episode: 160 Total reward: 26.0 Training loss: 0.8438 Explore P: 0.7307\n",
      "Episode: 161 Total reward: 10.0 Training loss: 132.4111 Explore P: 0.7300\n",
      "Episode: 162 Total reward: 17.0 Training loss: 39.3082 Explore P: 0.7287\n",
      "Episode: 163 Total reward: 17.0 Training loss: 1.0053 Explore P: 0.7275\n",
      "Episode: 164 Total reward: 10.0 Training loss: 1.0359 Explore P: 0.7268\n",
      "Episode: 165 Total reward: 16.0 Training loss: 32.7842 Explore P: 0.7257\n",
      "Episode: 166 Total reward: 17.0 Training loss: 33.3574 Explore P: 0.7244\n",
      "Episode: 167 Total reward: 18.0 Training loss: 34.4944 Explore P: 0.7232\n",
      "Episode: 168 Total reward: 13.0 Training loss: 32.8986 Explore P: 0.7222\n",
      "Episode: 169 Total reward: 16.0 Training loss: 1.1593 Explore P: 0.7211\n",
      "Episode: 170 Total reward: 13.0 Training loss: 1.0194 Explore P: 0.7202\n",
      "Episode: 171 Total reward: 12.0 Training loss: 32.6905 Explore P: 0.7193\n",
      "Episode: 172 Total reward: 16.0 Training loss: 52.1008 Explore P: 0.7182\n",
      "Episode: 173 Total reward: 16.0 Training loss: 0.9913 Explore P: 0.7171\n",
      "Episode: 174 Total reward: 8.0 Training loss: 31.6864 Explore P: 0.7165\n",
      "Episode: 175 Total reward: 12.0 Training loss: 58.8487 Explore P: 0.7156\n",
      "Episode: 176 Total reward: 26.0 Training loss: 108.4907 Explore P: 0.7138\n",
      "Episode: 177 Total reward: 18.0 Training loss: 55.0805 Explore P: 0.7125\n",
      "Episode: 178 Total reward: 11.0 Training loss: 1.9240 Explore P: 0.7118\n",
      "Episode: 179 Total reward: 16.0 Training loss: 1.6217 Explore P: 0.7106\n",
      "Episode: 180 Total reward: 15.0 Training loss: 28.0814 Explore P: 0.7096\n",
      "Episode: 181 Total reward: 27.0 Training loss: 1.0481 Explore P: 0.7077\n",
      "Episode: 182 Total reward: 17.0 Training loss: 50.6508 Explore P: 0.7065\n",
      "Episode: 183 Total reward: 8.0 Training loss: 73.6055 Explore P: 0.7060\n",
      "Episode: 184 Total reward: 24.0 Training loss: 1.4987 Explore P: 0.7043\n",
      "Episode: 185 Total reward: 15.0 Training loss: 50.8038 Explore P: 0.7033\n",
      "Episode: 186 Total reward: 11.0 Training loss: 73.8362 Explore P: 0.7025\n",
      "Episode: 187 Total reward: 15.0 Training loss: 26.1220 Explore P: 0.7015\n",
      "Episode: 188 Total reward: 28.0 Training loss: 1.0988 Explore P: 0.6995\n",
      "Episode: 189 Total reward: 11.0 Training loss: 1.0640 Explore P: 0.6988\n",
      "Episode: 190 Total reward: 41.0 Training loss: 44.0378 Explore P: 0.6960\n",
      "Episode: 191 Total reward: 11.0 Training loss: 56.9562 Explore P: 0.6952\n",
      "Episode: 192 Total reward: 12.0 Training loss: 1.1245 Explore P: 0.6944\n",
      "Episode: 193 Total reward: 31.0 Training loss: 24.3688 Explore P: 0.6923\n",
      "Episode: 194 Total reward: 16.0 Training loss: 1.1272 Explore P: 0.6912\n",
      "Episode: 195 Total reward: 26.0 Training loss: 40.2882 Explore P: 0.6894\n",
      "Episode: 196 Total reward: 9.0 Training loss: 1.5769 Explore P: 0.6888\n",
      "Episode: 197 Total reward: 9.0 Training loss: 45.9907 Explore P: 0.6882\n",
      "Episode: 198 Total reward: 12.0 Training loss: 37.5197 Explore P: 0.6874\n",
      "Episode: 199 Total reward: 12.0 Training loss: 89.0961 Explore P: 0.6865\n",
      "Episode: 200 Total reward: 11.0 Training loss: 1.5201 Explore P: 0.6858\n",
      "Episode: 201 Total reward: 19.0 Training loss: 41.6753 Explore P: 0.6845\n",
      "Episode: 202 Total reward: 28.0 Training loss: 1.4261 Explore P: 0.6826\n",
      "Episode: 203 Total reward: 34.0 Training loss: 81.1579 Explore P: 0.6804\n",
      "Episode: 204 Total reward: 12.0 Training loss: 1.5833 Explore P: 0.6795\n",
      "Episode: 205 Total reward: 27.0 Training loss: 1.9827 Explore P: 0.6777\n",
      "Episode: 206 Total reward: 17.0 Training loss: 41.8161 Explore P: 0.6766\n",
      "Episode: 207 Total reward: 13.0 Training loss: 1.6851 Explore P: 0.6757\n",
      "Episode: 208 Total reward: 79.0 Training loss: 49.7362 Explore P: 0.6705\n",
      "Episode: 209 Total reward: 26.0 Training loss: 18.4793 Explore P: 0.6688\n",
      "Episode: 210 Total reward: 9.0 Training loss: 40.5253 Explore P: 0.6682\n",
      "Episode: 211 Total reward: 20.0 Training loss: 1.2850 Explore P: 0.6669\n",
      "Episode: 212 Total reward: 29.0 Training loss: 33.5482 Explore P: 0.6650\n",
      "Episode: 213 Total reward: 27.0 Training loss: 51.9687 Explore P: 0.6632\n",
      "Episode: 214 Total reward: 10.0 Training loss: 2.0662 Explore P: 0.6626\n",
      "Episode: 215 Total reward: 11.0 Training loss: 56.0755 Explore P: 0.6618\n",
      "Episode: 216 Total reward: 9.0 Training loss: 18.7557 Explore P: 0.6613\n",
      "Episode: 217 Total reward: 12.0 Training loss: 19.9988 Explore P: 0.6605\n",
      "Episode: 218 Total reward: 22.0 Training loss: 21.6742 Explore P: 0.6590\n",
      "Episode: 219 Total reward: 15.0 Training loss: 17.4745 Explore P: 0.6581\n",
      "Episode: 220 Total reward: 14.0 Training loss: 40.2167 Explore P: 0.6572\n",
      "Episode: 221 Total reward: 22.0 Training loss: 39.4462 Explore P: 0.6557\n",
      "Episode: 222 Total reward: 11.0 Training loss: 35.7854 Explore P: 0.6550\n",
      "Episode: 223 Total reward: 11.0 Training loss: 37.7529 Explore P: 0.6543\n",
      "Episode: 224 Total reward: 15.0 Training loss: 45.5774 Explore P: 0.6534\n",
      "Episode: 225 Total reward: 20.0 Training loss: 76.1758 Explore P: 0.6521\n",
      "Episode: 226 Total reward: 8.0 Training loss: 40.5694 Explore P: 0.6516\n",
      "Episode: 227 Total reward: 18.0 Training loss: 1.7421 Explore P: 0.6504\n",
      "Episode: 228 Total reward: 13.0 Training loss: 1.9734 Explore P: 0.6496\n",
      "Episode: 229 Total reward: 18.0 Training loss: 32.3950 Explore P: 0.6484\n",
      "Episode: 230 Total reward: 21.0 Training loss: 21.2581 Explore P: 0.6471\n",
      "Episode: 231 Total reward: 12.0 Training loss: 78.4330 Explore P: 0.6463\n",
      "Episode: 232 Total reward: 22.0 Training loss: 1.7792 Explore P: 0.6449\n",
      "Episode: 233 Total reward: 11.0 Training loss: 1.4468 Explore P: 0.6442\n",
      "Episode: 234 Total reward: 18.0 Training loss: 1.5222 Explore P: 0.6431\n",
      "Episode: 235 Total reward: 22.0 Training loss: 51.0256 Explore P: 0.6417\n",
      "Episode: 236 Total reward: 21.0 Training loss: 73.4755 Explore P: 0.6404\n",
      "Episode: 237 Total reward: 12.0 Training loss: 33.7812 Explore P: 0.6396\n",
      "Episode: 238 Total reward: 16.0 Training loss: 57.4053 Explore P: 0.6386\n",
      "Episode: 239 Total reward: 21.0 Training loss: 15.9925 Explore P: 0.6373\n",
      "Episode: 240 Total reward: 47.0 Training loss: 67.0363 Explore P: 0.6343\n",
      "Episode: 241 Total reward: 9.0 Training loss: 33.9929 Explore P: 0.6338\n",
      "Episode: 242 Total reward: 11.0 Training loss: 32.8118 Explore P: 0.6331\n",
      "Episode: 243 Total reward: 13.0 Training loss: 30.9228 Explore P: 0.6323\n",
      "Episode: 244 Total reward: 8.0 Training loss: 33.4394 Explore P: 0.6318\n",
      "Episode: 245 Total reward: 16.0 Training loss: 54.0241 Explore P: 0.6308\n",
      "Episode: 246 Total reward: 20.0 Training loss: 0.9271 Explore P: 0.6296\n",
      "Episode: 247 Total reward: 16.0 Training loss: 1.0815 Explore P: 0.6286\n",
      "Episode: 248 Total reward: 10.0 Training loss: 0.9790 Explore P: 0.6279\n",
      "Episode: 249 Total reward: 10.0 Training loss: 47.5231 Explore P: 0.6273\n",
      "Episode: 250 Total reward: 13.0 Training loss: 36.1908 Explore P: 0.6265\n",
      "Episode: 251 Total reward: 11.0 Training loss: 0.8106 Explore P: 0.6259\n",
      "Episode: 252 Total reward: 28.0 Training loss: 63.3068 Explore P: 0.6241\n",
      "Episode: 253 Total reward: 14.0 Training loss: 19.6078 Explore P: 0.6233\n",
      "Episode: 254 Total reward: 26.0 Training loss: 47.2127 Explore P: 0.6217\n",
      "Episode: 255 Total reward: 28.0 Training loss: 1.0859 Explore P: 0.6200\n",
      "Episode: 256 Total reward: 18.0 Training loss: 0.7963 Explore P: 0.6189\n",
      "Episode: 257 Total reward: 23.0 Training loss: 1.0138 Explore P: 0.6175\n",
      "Episode: 258 Total reward: 39.0 Training loss: 48.6658 Explore P: 0.6151\n",
      "Episode: 259 Total reward: 122.0 Training loss: 1.2087 Explore P: 0.6078\n",
      "Episode: 260 Total reward: 11.0 Training loss: 0.8647 Explore P: 0.6071\n",
      "Episode: 261 Total reward: 17.0 Training loss: 0.9207 Explore P: 0.6061\n",
      "Episode: 262 Total reward: 44.0 Training loss: 1.3504 Explore P: 0.6035\n",
      "Episode: 263 Total reward: 49.0 Training loss: 43.9261 Explore P: 0.6006\n",
      "Episode: 264 Total reward: 13.0 Training loss: 24.6111 Explore P: 0.5998\n",
      "Episode: 265 Total reward: 143.0 Training loss: 13.2779 Explore P: 0.5914\n",
      "Episode: 266 Total reward: 30.0 Training loss: 33.4321 Explore P: 0.5897\n",
      "Episode: 267 Total reward: 32.0 Training loss: 0.8845 Explore P: 0.5878\n",
      "Episode: 268 Total reward: 28.0 Training loss: 17.7108 Explore P: 0.5862\n",
      "Episode: 269 Total reward: 25.0 Training loss: 17.7253 Explore P: 0.5848\n",
      "Episode: 270 Total reward: 32.0 Training loss: 1.2711 Explore P: 0.5830\n",
      "Episode: 271 Total reward: 44.0 Training loss: 19.7429 Explore P: 0.5804\n",
      "Episode: 272 Total reward: 31.0 Training loss: 1.1555 Explore P: 0.5787\n",
      "Episode: 273 Total reward: 20.0 Training loss: 44.9319 Explore P: 0.5775\n",
      "Episode: 274 Total reward: 37.0 Training loss: 1.7416 Explore P: 0.5754\n",
      "Episode: 275 Total reward: 33.0 Training loss: 1.2995 Explore P: 0.5736\n",
      "Episode: 276 Total reward: 65.0 Training loss: 19.7659 Explore P: 0.5699\n",
      "Episode: 277 Total reward: 37.0 Training loss: 1.0237 Explore P: 0.5679\n",
      "Episode: 278 Total reward: 28.0 Training loss: 28.4943 Explore P: 0.5663\n"
     ]
    },
    {
     "ename": "KeyboardInterrupt",
     "evalue": "",
     "output_type": "error",
     "traceback": [
      "\u001b[0;31m---------------------------------------------------------------------------\u001b[0m",
      "\u001b[0;31mKeyboardInterrupt\u001b[0m                         Traceback (most recent call last)",
      "\u001b[0;32m<ipython-input-13-20e4e74a6b4d>\u001b[0m in \u001b[0;36m<module>\u001b[0;34m()\u001b[0m\n\u001b[1;32m     64\u001b[0m \u001b[0;34m\u001b[0m\u001b[0m\n\u001b[1;32m     65\u001b[0m             \u001b[0;31m# Train network\u001b[0m\u001b[0;34m\u001b[0m\u001b[0;34m\u001b[0m\u001b[0m\n\u001b[0;32m---> 66\u001b[0;31m             \u001b[0mtarget_Qs\u001b[0m \u001b[0;34m=\u001b[0m \u001b[0msess\u001b[0m\u001b[0;34m.\u001b[0m\u001b[0mrun\u001b[0m\u001b[0;34m(\u001b[0m\u001b[0mmainQN\u001b[0m\u001b[0;34m.\u001b[0m\u001b[0moutput\u001b[0m\u001b[0;34m,\u001b[0m \u001b[0mfeed_dict\u001b[0m\u001b[0;34m=\u001b[0m\u001b[0;34m{\u001b[0m\u001b[0mmainQN\u001b[0m\u001b[0;34m.\u001b[0m\u001b[0minputs_\u001b[0m\u001b[0;34m:\u001b[0m \u001b[0mnext_states\u001b[0m\u001b[0;34m}\u001b[0m\u001b[0;34m)\u001b[0m\u001b[0;34m\u001b[0m\u001b[0m\n\u001b[0m\u001b[1;32m     67\u001b[0m \u001b[0;34m\u001b[0m\u001b[0m\n\u001b[1;32m     68\u001b[0m             \u001b[0;31m# Set target_Qs to 0 for states where episode ends\u001b[0m\u001b[0;34m\u001b[0m\u001b[0;34m\u001b[0m\u001b[0m\n",
      "\u001b[0;32m//anaconda/envs/tflearn/lib/python3.5/site-packages/tensorflow/python/client/session.py\u001b[0m in \u001b[0;36mrun\u001b[0;34m(self, fetches, feed_dict, options, run_metadata)\u001b[0m\n\u001b[1;32m    765\u001b[0m     \u001b[0;32mtry\u001b[0m\u001b[0;34m:\u001b[0m\u001b[0;34m\u001b[0m\u001b[0m\n\u001b[1;32m    766\u001b[0m       result = self._run(None, fetches, feed_dict, options_ptr,\n\u001b[0;32m--> 767\u001b[0;31m                          run_metadata_ptr)\n\u001b[0m\u001b[1;32m    768\u001b[0m       \u001b[0;32mif\u001b[0m \u001b[0mrun_metadata\u001b[0m\u001b[0;34m:\u001b[0m\u001b[0;34m\u001b[0m\u001b[0m\n\u001b[1;32m    769\u001b[0m         \u001b[0mproto_data\u001b[0m \u001b[0;34m=\u001b[0m \u001b[0mtf_session\u001b[0m\u001b[0;34m.\u001b[0m\u001b[0mTF_GetBuffer\u001b[0m\u001b[0;34m(\u001b[0m\u001b[0mrun_metadata_ptr\u001b[0m\u001b[0;34m)\u001b[0m\u001b[0;34m\u001b[0m\u001b[0m\n",
      "\u001b[0;32m//anaconda/envs/tflearn/lib/python3.5/site-packages/tensorflow/python/client/session.py\u001b[0m in \u001b[0;36m_run\u001b[0;34m(self, handle, fetches, feed_dict, options, run_metadata)\u001b[0m\n\u001b[1;32m    963\u001b[0m     \u001b[0;32mif\u001b[0m \u001b[0mfinal_fetches\u001b[0m \u001b[0;32mor\u001b[0m \u001b[0mfinal_targets\u001b[0m\u001b[0;34m:\u001b[0m\u001b[0;34m\u001b[0m\u001b[0m\n\u001b[1;32m    964\u001b[0m       results = self._do_run(handle, final_targets, final_fetches,\n\u001b[0;32m--> 965\u001b[0;31m                              feed_dict_string, options, run_metadata)\n\u001b[0m\u001b[1;32m    966\u001b[0m     \u001b[0;32melse\u001b[0m\u001b[0;34m:\u001b[0m\u001b[0;34m\u001b[0m\u001b[0m\n\u001b[1;32m    967\u001b[0m       \u001b[0mresults\u001b[0m \u001b[0;34m=\u001b[0m \u001b[0;34m[\u001b[0m\u001b[0;34m]\u001b[0m\u001b[0;34m\u001b[0m\u001b[0m\n",
      "\u001b[0;32m//anaconda/envs/tflearn/lib/python3.5/site-packages/tensorflow/python/client/session.py\u001b[0m in \u001b[0;36m_do_run\u001b[0;34m(self, handle, target_list, fetch_list, feed_dict, options, run_metadata)\u001b[0m\n\u001b[1;32m   1013\u001b[0m     \u001b[0;32mif\u001b[0m \u001b[0mhandle\u001b[0m \u001b[0;32mis\u001b[0m \u001b[0;32mNone\u001b[0m\u001b[0;34m:\u001b[0m\u001b[0;34m\u001b[0m\u001b[0m\n\u001b[1;32m   1014\u001b[0m       return self._do_call(_run_fn, self._session, feed_dict, fetch_list,\n\u001b[0;32m-> 1015\u001b[0;31m                            target_list, options, run_metadata)\n\u001b[0m\u001b[1;32m   1016\u001b[0m     \u001b[0;32melse\u001b[0m\u001b[0;34m:\u001b[0m\u001b[0;34m\u001b[0m\u001b[0m\n\u001b[1;32m   1017\u001b[0m       return self._do_call(_prun_fn, self._session, handle, feed_dict,\n",
      "\u001b[0;32m//anaconda/envs/tflearn/lib/python3.5/site-packages/tensorflow/python/client/session.py\u001b[0m in \u001b[0;36m_do_call\u001b[0;34m(self, fn, *args)\u001b[0m\n\u001b[1;32m   1020\u001b[0m   \u001b[0;32mdef\u001b[0m \u001b[0m_do_call\u001b[0m\u001b[0;34m(\u001b[0m\u001b[0mself\u001b[0m\u001b[0;34m,\u001b[0m \u001b[0mfn\u001b[0m\u001b[0;34m,\u001b[0m \u001b[0;34m*\u001b[0m\u001b[0margs\u001b[0m\u001b[0;34m)\u001b[0m\u001b[0;34m:\u001b[0m\u001b[0;34m\u001b[0m\u001b[0m\n\u001b[1;32m   1021\u001b[0m     \u001b[0;32mtry\u001b[0m\u001b[0;34m:\u001b[0m\u001b[0;34m\u001b[0m\u001b[0m\n\u001b[0;32m-> 1022\u001b[0;31m       \u001b[0;32mreturn\u001b[0m \u001b[0mfn\u001b[0m\u001b[0;34m(\u001b[0m\u001b[0;34m*\u001b[0m\u001b[0margs\u001b[0m\u001b[0;34m)\u001b[0m\u001b[0;34m\u001b[0m\u001b[0m\n\u001b[0m\u001b[1;32m   1023\u001b[0m     \u001b[0;32mexcept\u001b[0m \u001b[0merrors\u001b[0m\u001b[0;34m.\u001b[0m\u001b[0mOpError\u001b[0m \u001b[0;32mas\u001b[0m \u001b[0me\u001b[0m\u001b[0;34m:\u001b[0m\u001b[0;34m\u001b[0m\u001b[0m\n\u001b[1;32m   1024\u001b[0m       \u001b[0mmessage\u001b[0m \u001b[0;34m=\u001b[0m \u001b[0mcompat\u001b[0m\u001b[0;34m.\u001b[0m\u001b[0mas_text\u001b[0m\u001b[0;34m(\u001b[0m\u001b[0me\u001b[0m\u001b[0;34m.\u001b[0m\u001b[0mmessage\u001b[0m\u001b[0;34m)\u001b[0m\u001b[0;34m\u001b[0m\u001b[0m\n",
      "\u001b[0;32m//anaconda/envs/tflearn/lib/python3.5/site-packages/tensorflow/python/client/session.py\u001b[0m in \u001b[0;36m_run_fn\u001b[0;34m(session, feed_dict, fetch_list, target_list, options, run_metadata)\u001b[0m\n\u001b[1;32m   1002\u001b[0m         return tf_session.TF_Run(session, options,\n\u001b[1;32m   1003\u001b[0m                                  \u001b[0mfeed_dict\u001b[0m\u001b[0;34m,\u001b[0m \u001b[0mfetch_list\u001b[0m\u001b[0;34m,\u001b[0m \u001b[0mtarget_list\u001b[0m\u001b[0;34m,\u001b[0m\u001b[0;34m\u001b[0m\u001b[0m\n\u001b[0;32m-> 1004\u001b[0;31m                                  status, run_metadata)\n\u001b[0m\u001b[1;32m   1005\u001b[0m \u001b[0;34m\u001b[0m\u001b[0m\n\u001b[1;32m   1006\u001b[0m     \u001b[0;32mdef\u001b[0m \u001b[0m_prun_fn\u001b[0m\u001b[0;34m(\u001b[0m\u001b[0msession\u001b[0m\u001b[0;34m,\u001b[0m \u001b[0mhandle\u001b[0m\u001b[0;34m,\u001b[0m \u001b[0mfeed_dict\u001b[0m\u001b[0;34m,\u001b[0m \u001b[0mfetch_list\u001b[0m\u001b[0;34m)\u001b[0m\u001b[0;34m:\u001b[0m\u001b[0;34m\u001b[0m\u001b[0m\n",
      "\u001b[0;31mKeyboardInterrupt\u001b[0m: "
     ]
    }
   ],
   "source": [
    "# Now train with experiences\n",
    "saver = tf.train.Saver()\n",
    "rewards_list = []\n",
    "with tf.Session() as sess:\n",
    "    # Initialize variables\n",
    "    sess.run(tf.global_variables_initializer())\n",
    "    \n",
    "    step = 0\n",
    "    for ep in range(1, train_episodes):\n",
    "        total_reward = 0\n",
    "        t = 0\n",
    "        while t < max_steps:\n",
    "            step += 1\n",
    "            # Uncomment this next line to watch the training\n",
    "            # env.render() \n",
    "            \n",
    "            # Explore or Exploit\n",
    "            explore_p = explore_stop + (explore_start - explore_stop)*np.exp(-decay_rate*step) \n",
    "            if explore_p > np.random.rand():\n",
    "                # Make a random action\n",
    "                action = env.action_space.sample()\n",
    "            else:\n",
    "                # Get action from Q-network\n",
    "                feed = {mainQN.inputs_: state.reshape((1, *state.shape))}\n",
    "                Qs = sess.run(mainQN.output, feed_dict=feed)\n",
    "                action = np.argmax(Qs)\n",
    "            \n",
    "            # Take action, get new state and reward\n",
    "            next_state, reward, done, _ = env.step(action)\n",
    "    \n",
    "            total_reward += reward\n",
    "            \n",
    "            if done:\n",
    "                # the episode ends so no next state\n",
    "                next_state = np.zeros(state.shape)\n",
    "                t = max_steps\n",
    "                \n",
    "                print('Episode: {}'.format(ep),\n",
    "                      'Total reward: {}'.format(total_reward),\n",
    "                      'Training loss: {:.4f}'.format(loss),\n",
    "                      'Explore P: {:.4f}'.format(explore_p))\n",
    "                rewards_list.append((ep, total_reward))\n",
    "                \n",
    "                # Add experience to memory\n",
    "                memory.add((state, action, reward, next_state))\n",
    "                \n",
    "                # Start new episode\n",
    "                env.reset()\n",
    "                # Take one random step to get the pole and cart moving\n",
    "                state, reward, done, _ = env.step(env.action_space.sample())\n",
    "\n",
    "            else:\n",
    "                # Add experience to memory\n",
    "                memory.add((state, action, reward, next_state))\n",
    "                state = next_state\n",
    "                t += 1\n",
    "            \n",
    "            # Sample mini-batch from memory\n",
    "            batch = memory.sample(batch_size)\n",
    "            states = np.array([each[0] for each in batch])\n",
    "            actions = np.array([each[1] for each in batch])\n",
    "            rewards = np.array([each[2] for each in batch])\n",
    "            next_states = np.array([each[3] for each in batch])\n",
    "            \n",
    "            # Train network\n",
    "            target_Qs = sess.run(mainQN.output, feed_dict={mainQN.inputs_: next_states})\n",
    "            \n",
    "            # Set target_Qs to 0 for states where episode ends\n",
    "            episode_ends = (next_states == np.zeros(states[0].shape)).all(axis=1)\n",
    "            target_Qs[episode_ends] = (0, 0)\n",
    "            \n",
    "            targets = rewards + gamma * np.max(target_Qs, axis=1)\n",
    "\n",
    "            loss, _ = sess.run([mainQN.loss, mainQN.opt],\n",
    "                                feed_dict={mainQN.inputs_: states,\n",
    "                                           mainQN.targetQs_: targets,\n",
    "                                           mainQN.actions_: actions})\n",
    "        \n",
    "    saver.save(sess, \"checkpoints/cartpole.ckpt\")\n"
   ]
  },
  {
   "cell_type": "markdown",
   "metadata": {},
   "source": [
    "## Visualizing training\n",
    "\n",
    "Below I'll plot the total rewards for each episode. I'm plotting the rolling average too, in blue."
   ]
  },
  {
   "cell_type": "code",
   "execution_count": 14,
   "metadata": {
    "collapsed": true,
    "deletable": true,
    "editable": true
   },
   "outputs": [],
   "source": [
    "%matplotlib inline\n",
    "import matplotlib.pyplot as plt\n",
    "\n",
    "def running_mean(x, N):\n",
    "    cumsum = np.cumsum(np.insert(x, 0, 0)) \n",
    "    return (cumsum[N:] - cumsum[:-N]) / N "
   ]
  },
  {
   "cell_type": "code",
   "execution_count": 15,
   "metadata": {
    "collapsed": false,
    "deletable": true,
    "editable": true
   },
   "outputs": [
    {
     "data": {
      "text/plain": [
       "<matplotlib.text.Text at 0x123b64b00>"
      ]
     },
     "execution_count": 15,
     "metadata": {},
     "output_type": "execute_result"
    },
    {
     "data": {
      "image/png": "[encoded data removed]",
      "text/plain": [
       "<matplotlib.figure.Figure at 0x123b41470>"
      ]
     },
     "metadata": {},
     "output_type": "display_data"
    }
   ],
   "source": [
    "eps, rews = np.array(rewards_list).T\n",
    "smoothed_rews = running_mean(rews, 10)\n",
    "plt.plot(eps[-len(smoothed_rews):], smoothed_rews)\n",
    "plt.plot(eps, rews, color='grey', alpha=0.3)\n",
    "plt.xlabel('Episode')\n",
    "plt.ylabel('Total Reward')"
   ]
  },
  {
   "cell_type": "markdown",
   "metadata": {},
   "source": [
    "## Testing\n",
    "\n",
    "Let's checkout how our trained agent plays the game."
   ]
  },
  {
   "cell_type": "code",
   "execution_count": null,
   "metadata": {
    "collapsed": false,
    "deletable": true,
    "editable": true
   },
   "outputs": [],
   "source": [
    "test_episodes = 10\n",
    "test_max_steps = 400\n",
    "env.reset()\n",
    "with tf.Session() as sess:\n",
    "    saver.restore(sess, tf.train.latest_checkpoint('checkpoints'))\n",
    "    \n",
    "    for ep in range(1, test_episodes):\n",
    "        t = 0\n",
    "        while t < test_max_steps:\n",
    "            env.render() \n",
    "            \n",
    "            # Get action from Q-network\n",
    "            feed = {mainQN.inputs_: state.reshape((1, *state.shape))}\n",
    "            Qs = sess.run(mainQN.output, feed_dict=feed)\n",
    "            action = np.argmax(Qs)\n",
    "            \n",
    "            # Take action, get new state and reward\n",
    "            next_state, reward, done, _ = env.step(action)\n",
    "            \n",
    "            if done:\n",
    "                t = test_max_steps\n",
    "                env.reset()\n",
    "                # Take one random step to get the pole and cart moving\n",
    "                state, reward, done, _ = env.step(env.action_space.sample())\n",
    "\n",
    "            else:\n",
    "                state = next_state\n",
    "                t += 1"
   ]
  },
  {
   "cell_type": "code",
   "execution_count": null,
   "metadata": {
    "collapsed": true
   },
   "outputs": [],
   "source": [
    "env.close()"
   ]
  },
  {
   "cell_type": "markdown",
   "metadata": {},
   "source": [
    "## Extending this\n",
    "\n",
    "So, Cart-Pole is a pretty simple game. However, the same model can be used to train an agent to play something much more complicated like Pong or Space Invaders. Instead of a state like we're using here though, you'd want to use convolutional layers to get the state from the screen images.\n",
    "\n",
    "![Deep Q-Learning Atari](assets/atari-network.png)\n",
    "\n",
    "I'll leave it as a challenge for you to use deep Q-learning to train an agent to play Atari games. Here's the original paper which will get you started: http://www.davidqiu.com:8888/research/nature14236.pdf."
   ]
  }
 ],
 "metadata": {
  "anaconda-cloud": {},
  "kernelspec": {
   "display_name": "Python [default]",
   "language": "python",
   "name": "python3"
  },
  "language_info": {
   "codemirror_mode": {
    "name": "ipython",
    "version": 3
   },
   "file_extension": ".py",
   "mimetype": "text/x-python",
   "name": "python",
   "nbconvert_exporter": "python",
   "pygments_lexer": "ipython3",
   "version": "3.5.2"
  }
 },
 "nbformat": 4,
 "nbformat_minor": 2
}
